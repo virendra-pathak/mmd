{
 "cells": [
  {
   "cell_type": "markdown",
   "metadata": {},
   "source": [
    "# Task 4 - Song Ranking"
   ]
  },
  {
   "cell_type": "markdown",
   "metadata": {},
   "source": [
    "This code does the following:\n",
    "1. Create a Similarity Matrix S of dimension NxN, where N is the total number of songs and S(i,j) is the link from song I to J with weight as their similarity.\n",
    "2. Create M matrix\n",
    "3. Create a Song to Tag map which indicates whether Song S is a member of Tag T.\n",
    "4. Iteratively calculate R matrix until the value converges.\n",
    "5. Calculate top 5 ranks in R matrix."
   ]
  },
  {
   "cell_type": "code",
   "execution_count": 8,
   "metadata": {
    "collapsed": false
   },
   "outputs": [
    {
     "name": "stdout",
     "output_type": "stream",
     "text": [
      "tag list ['Hip-Hop' 'classic']\n",
      "Creating Similarity Matrix...\n",
      "Time taken for creating similarity matrix:  70.95218753814697\n",
      "Creating M Matrix...\n",
      "M shape :  (764719, 764719)\n",
      "Time taken for creating M matrix:  31.305214643478394\n",
      "Creating Song to Tag map...\n",
      "Time taken for creating song to tag map:  0.1915264129638672\n",
      "Creating R matrices...\n",
      "summed row :  [[ 0.]\n",
      " [ 0.]\n",
      " [ 0.]\n",
      " ..., \n",
      " [ 0.]\n",
      " [ 0.]\n",
      " [ 0.]]\n",
      "shape of summed_row (764719, 1)\n",
      "num_songs in tags :  0\n"
     ]
    },
    {
     "ename": "ZeroDivisionError",
     "evalue": "float division by zero",
     "output_type": "error",
     "traceback": [
      "\u001b[0;31m---------------------------------------------------------------------------\u001b[0m",
      "\u001b[0;31mZeroDivisionError\u001b[0m                         Traceback (most recent call last)",
      "\u001b[0;32m<ipython-input-8-401cab49f491>\u001b[0m in \u001b[0;36mon_button_clicked\u001b[0;34m(b)\u001b[0m\n\u001b[1;32m    177\u001b[0m \u001b[0;34m\u001b[0m\u001b[0m\n\u001b[1;32m    178\u001b[0m \u001b[0;32mdef\u001b[0m \u001b[0mon_button_clicked\u001b[0m\u001b[0;34m(\u001b[0m\u001b[0mb\u001b[0m\u001b[0;34m)\u001b[0m\u001b[0;34m:\u001b[0m\u001b[0;34m\u001b[0m\u001b[0m\n\u001b[0;32m--> 179\u001b[0;31m     \u001b[0mmain\u001b[0m\u001b[0;34m(\u001b[0m\u001b[0mtag_list\u001b[0m\u001b[0;34m.\u001b[0m\u001b[0mvalue\u001b[0m\u001b[0;34m)\u001b[0m\u001b[0;34m\u001b[0m\u001b[0m\n\u001b[0m\u001b[1;32m    180\u001b[0m \u001b[0;34m\u001b[0m\u001b[0m\n\u001b[1;32m    181\u001b[0m \u001b[0mbutton\u001b[0m\u001b[0;34m.\u001b[0m\u001b[0mon_click\u001b[0m\u001b[0;34m(\u001b[0m\u001b[0mon_button_clicked\u001b[0m\u001b[0;34m)\u001b[0m\u001b[0;34m\u001b[0m\u001b[0m\n",
      "\u001b[0;32m<ipython-input-8-401cab49f491>\u001b[0m in \u001b[0;36mmain\u001b[0;34m(tag_list)\u001b[0m\n\u001b[1;32m    156\u001b[0m    \u001b[0msong_to_tag_map\u001b[0m\u001b[0;34m(\u001b[0m\u001b[0mdict_trackid_rowno\u001b[0m\u001b[0;34m)\u001b[0m\u001b[0;34m\u001b[0m\u001b[0m\n\u001b[1;32m    157\u001b[0m \u001b[0;34m\u001b[0m\u001b[0m\n\u001b[0;32m--> 158\u001b[0;31m    \u001b[0mcreate_R\u001b[0m\u001b[0;34m(\u001b[0m\u001b[0mM\u001b[0m\u001b[0;34m,\u001b[0m \u001b[0msong_to_tag_map\u001b[0m\u001b[0;34m)\u001b[0m\u001b[0;34m\u001b[0m\u001b[0m\n\u001b[0m\u001b[1;32m    159\u001b[0m    \u001b[0mend_time\u001b[0m \u001b[0;34m=\u001b[0m \u001b[0mtime\u001b[0m\u001b[0;34m.\u001b[0m\u001b[0mtime\u001b[0m\u001b[0;34m(\u001b[0m\u001b[0;34m)\u001b[0m\u001b[0;34m\u001b[0m\u001b[0m\n\u001b[1;32m    160\u001b[0m \u001b[0;34m\u001b[0m\u001b[0m\n",
      "\u001b[0;32m<ipython-input-8-401cab49f491>\u001b[0m in \u001b[0;36mcreate_R\u001b[0;34m(M, song_to_tag_map)\u001b[0m\n\u001b[1;32m     72\u001b[0m     \u001b[0mnum_songs_in_tags\u001b[0m \u001b[0;34m=\u001b[0m \u001b[0mnp\u001b[0m\u001b[0;34m.\u001b[0m\u001b[0mcount_nonzero\u001b[0m\u001b[0;34m(\u001b[0m\u001b[0msummed_row\u001b[0m\u001b[0;34m)\u001b[0m\u001b[0;34m\u001b[0m\u001b[0m\n\u001b[1;32m     73\u001b[0m     \u001b[0mprint\u001b[0m\u001b[0;34m(\u001b[0m\u001b[0;34m\"num_songs in tags : \"\u001b[0m\u001b[0;34m,\u001b[0m \u001b[0mnum_songs_in_tags\u001b[0m\u001b[0;34m)\u001b[0m\u001b[0;34m\u001b[0m\u001b[0m\n\u001b[0;32m---> 74\u001b[0;31m     \u001b[0mvalue\u001b[0m \u001b[0;34m=\u001b[0m \u001b[0;34m(\u001b[0m\u001b[0;36m1\u001b[0m\u001b[0;34m-\u001b[0m\u001b[0mbeta\u001b[0m\u001b[0;34m)\u001b[0m\u001b[0;34m/\u001b[0m\u001b[0mnum_songs_in_tags\u001b[0m\u001b[0;34m\u001b[0m\u001b[0m\n\u001b[0m\u001b[1;32m     75\u001b[0m     \u001b[0mprint\u001b[0m\u001b[0;34m(\u001b[0m\u001b[0;34m\"value: \"\u001b[0m\u001b[0;34m,\u001b[0m \u001b[0mvalue\u001b[0m\u001b[0;34m)\u001b[0m\u001b[0;34m\u001b[0m\u001b[0m\n\u001b[1;32m     76\u001b[0m     \u001b[0mis_song_in_tag\u001b[0m \u001b[0;34m=\u001b[0m \u001b[0msong_tag_matrix\u001b[0m\u001b[0;34m.\u001b[0m\u001b[0msum\u001b[0m\u001b[0;34m(\u001b[0m\u001b[0maxis\u001b[0m\u001b[0;34m=\u001b[0m\u001b[0;36m1\u001b[0m\u001b[0;34m)\u001b[0m\u001b[0;34m\u001b[0m\u001b[0m\n",
      "\u001b[0;31mZeroDivisionError\u001b[0m: float division by zero"
     ]
    }
   ],
   "source": [
    "import numpy as np\n",
    "import scipy.sparse as sp\n",
    "import os,json,glob\n",
    "import time\n",
    "from ipywidgets import interact, interactive, fixed\n",
    "import ipywidgets as widgets\n",
    "from IPython.display import clear_output\n",
    "from IPython.display import display\n",
    "#import pandas as pd\n",
    "\n",
    "#filepath=\"/media/virendra/data/study/1sem/mmd/rank/lastfm_subset/A/A/A/**/*.json\"\n",
    "#filepath=\"/media/virendra/data/study/1sem/mmd/rank/lastfm_subset/A/A/A/TRAAAAW128F429D538.json\"\n",
    "#filepath=\"/media/virendra/data/study/1sem/mmd/rank/lastfm_subset/A/A/A/**/*.json\"\n",
    "filepath=\"/media/virendra/data/study/1sem/mmd/rank/lastfm_test/**/*.json\"\n",
    "#filepath=\"C:\\\\Users\\\\Sarthak\\\\MMD\\\\group_17\\\\song-rank-mmd4\\\\lastfm_test\\\\**\\\\*.json\"\n",
    "#filepath=\"C:\\\\Users\\\\Sarthak\\\\MMD\\\\group_17\\\\song-rank-mmd4\\\\lastfm_test\\\\A\\\\A\\\\*.json\"\n",
    "#filepath=\"C:\\\\Users\\\\Sarthak\\\\MMD\\\\group_17\\\\song-rank-mmd4\\\\lastfm_test\\\\**\\\\*.json\"\n",
    "\n",
    "t=0 # make it as a user defined variable\n",
    "\n",
    "#list of tags\n",
    "user_specified_genre = [\"Hip-Hop\", \"classic\"]\n",
    "#user_specified_genre = []\n",
    "\n",
    "max_row = 764719\n",
    "max_col = 764719\n",
    "#max_col = 747806\n",
    "adj_matrix = sp.lil_matrix((max_row, max_col))\n",
    "M = sp.lil_matrix((max_row, max_col))\n",
    "song_tag_matrix = sp.lil_matrix((max_row, max_col))\n",
    "dict_trackid_rowno = {}\n",
    "trackID_title_dict = {}\n",
    "track_ID = []\n",
    "\n",
    "\n",
    "def create_M(adj_matrix):\n",
    "    start_time = time.time()\n",
    "    print(\"Creating M Matrix...\")\n",
    "\n",
    "    outgoing_edges = {}\n",
    "    for song in range(adj_matrix.shape[0]):\n",
    "                \n",
    "       song_row = adj_matrix.getrow(song)\n",
    "       outgoing_edges[song] = song_row.count_nonzero()\n",
    "\n",
    "    # and why we are using M.nonzero?\n",
    "    #non_zero_row_index = M.nonzero()[0]\n",
    "    #non_zero_col_index = M.nonzero()[1]\n",
    "    non_zero_row_index = adj_matrix.nonzero()[0]\n",
    "    non_zero_col_index = adj_matrix.nonzero()[1]\n",
    "    #print(non_zero_row_index.shape)\n",
    "    for index in range(len(non_zero_row_index)):\n",
    "        if(adj_matrix[non_zero_row_index[index],non_zero_col_index[index]]):\n",
    "            M[non_zero_col_index[index],non_zero_row_index[index]] = 1/outgoing_edges[non_zero_row_index[index]]\n",
    "    \n",
    "    print(\"M shape : \", M.shape)\n",
    "    print(\"Time taken for creating M matrix: \", time.time() - start_time)\n",
    "\n",
    "#write all below code in a function to make it clean\n",
    "def create_R(M, song_to_tag_map):\n",
    "    print(\"Creating R matrices...\")\n",
    "    beta = 0.2\n",
    "    # created R as all value 1/num_songs at all its indexes\n",
    "    R = np.full(max_row, 1/max_row)\n",
    "\n",
    "    # created song_in_tag_specified as all 0 \n",
    "    song_in_tag_specified = np.zeros(max_row)\n",
    "    summed_row = song_tag_matrix.sum(axis = 1)\n",
    "    print(\"summed row : \", summed_row)\n",
    "    #num_songs_in_tags = summed_row.count_nonzero()\n",
    "    print(\"shape of summed_row\", summed_row.shape)\n",
    "    num_songs_in_tags = np.count_nonzero(summed_row)\n",
    "    print(\"num_songs in tags : \", num_songs_in_tags)\n",
    "    value = (1-beta)/num_songs_in_tags\n",
    "    print(\"value: \", value)\n",
    "    is_song_in_tag = song_tag_matrix.sum(axis=1)\n",
    "    print(\"is song in tag : \", is_song_in_tag)\n",
    "    for song in range(M.shape[0]):\n",
    "        if is_song_in_tag[song] > 0:\n",
    "            song_in_tag_specified[song] = value\n",
    "\n",
    "    R_old = np.zeros(max_row)\n",
    "    for iterator in range(20):\n",
    "        #print(\"R.shape\", R.shape, \"M.shape\", M.shape, \"song_in_tag_specified.shape\", song_in_tag_specified.shape) \n",
    "        R = ((beta * M).dot(R)) + song_in_tag_specified\n",
    "        print(\"R : \", R, \" iterator : \", iterator)\n",
    "        # using numpy allclose for convergence\n",
    "        #if(math.abs(R_old - R) < threshold):\n",
    "        if(np.allclose(R,R_old)):\n",
    "            break\n",
    "        R_old = R\n",
    "    R_index = np.argsort(R)\n",
    "    print(\"Sorted indexes : \", R_index)\n",
    "    #print(\"final R\", R[R_index[0]],R[R_index[1]],R[R_index[2]],R[R_index[3]],R[R_index[4]])\n",
    "    print(\"Sorted R : \", R[R_index])\n",
    "    R = R[R_index]\n",
    "    print(\"top 5 elements..\")\n",
    "    for index in range(5):\n",
    "        print(\"Sorted index: \", R_index[R_index.shape[0] - (index+1)])\n",
    "        print(R[R.shape[0] - (index+1)], \" TRACK ID : \",  track_ID[R_index[R_index.shape[0] - (index+1)]], \" Track name : \", trackID_title_dict[track_ID[R_index[R_index.shape[0] - (index+1)]]])\n",
    "       \n",
    "def song_to_tag_map(dict_tag):\n",
    "    start_time = time.time()\n",
    "    print(\"Creating Song to Tag map...\")\n",
    "    for key, value in  dict_tag.items():\n",
    "        if len(value) >= 2:    \n",
    "           for genres in value[1]:\n",
    "              # created at the beginning of file as list\n",
    "              if(genres[0] in user_specified_genre):\n",
    "                 song_tag_matrix[value[0], user_specified_genre.index(genres[0])] = 1\n",
    "    \n",
    "    print(\"Time taken for creating song to tag map: \", time.time() - start_time)\n",
    "def create_similarty_matrix():\n",
    "    start_time = time.time()\n",
    "    print(\"Creating Similarity Matrix...\")\n",
    "    row_num = 0\n",
    "    for filename in glob.iglob(filepath, recursive=True):\n",
    "        #print(filename)\n",
    "        #assumption 1 jason file contain only one line\n",
    "\t\n",
    "        with open(filename) as data_file:\n",
    "            data = json.load(data_file)\n",
    "            trackID_title_dict[data['track_id']] = data['title']\n",
    "            if data['track_id'] not in dict_trackid_rowno:\n",
    "        \t \n",
    "                dict_trackid_rowno[data['track_id']] =  [row_num] \n",
    "                track_ID.insert(row_num, data['track_id'])  \n",
    "                row_num += 1\n",
    "                dict_trackid_rowno[data['track_id']] += [data['tags']]\n",
    "                row = dict_trackid_rowno[data['track_id']][0]\n",
    "                for similar in data['similars']:\n",
    "                    if similar[0] not in dict_trackid_rowno:\n",
    "                        dict_trackid_rowno[similar[0]] = [row_num]\n",
    "                        track_ID.insert(row_num, similar[0])\n",
    "                        row_num += 1\n",
    "                        col = dict_trackid_rowno[similar[0]][0]\n",
    "\n",
    "    \t\t\t# what we have to store is adj_matirx? 1 or similar value?\n",
    "\t\t\t# if its only 1/0 => just use a additional if (similar[1] > t)\n",
    "                    if(similar[1] >= t):\n",
    "                     \n",
    "                        adj_matrix[row,col] = 1 \n",
    "    print(\"Time taken for creating similarity matrix: \", time.time() - start_time)\n",
    "\t\t\t#print(row, col, similar[1])\n",
    "\n",
    "\n",
    "#print(\"track ID array: \", track_ID)\n",
    "user_specified_genre=np.array(tag_list)\n",
    "print(\"tag list\", user_specified_genre)\n",
    "start_time = time.time()\n",
    "create_similarty_matrix()\n",
    "create_M(adj_matrix)\n",
    "\n",
    "song_to_tag_map(dict_trackid_rowno)\n",
    "create_R(M, song_to_tag_map)\n",
    "end_time = time.time()\n",
    "\n",
    "print(\"time taken : \", end_time - start_time)\n",
    "   #print(\"max row\", row, \"max col\", col)\n",
    "   #print(\"trackid --> rowno\")\n",
    "   #print(dict_trackid_rowno.items())\n",
    "print(\"adj_matrix shape\", adj_matrix.shape)\n",
    "   #print((adj_matrix.todense())[8296,8593])\n",
    "\n",
    "\n",
    "\n",
    "\n",
    "\n"
   ]
  }
 ],
 "metadata": {
  "anaconda-cloud": {},
  "kernelspec": {
   "display_name": "Python [default]",
   "language": "python",
   "name": "python3"
  },
  "language_info": {
   "codemirror_mode": {
    "name": "ipython",
    "version": 3
   },
   "file_extension": ".py",
   "mimetype": "text/x-python",
   "name": "python",
   "nbconvert_exporter": "python",
   "pygments_lexer": "ipython3",
   "version": "3.5.2"
  },
  "widgets": {
   "state": {
    "077992f5e75740578112d897d662d3d2": {
     "views": [
      {
       "cell_index": 0
      }
     ]
    },
    "248b6064fc634dfd929a780c746ac764": {
     "views": [
      {
       "cell_index": 2
      }
     ]
    },
    "4c53c1ca156e457fa8dab3424ce22eba": {
     "views": [
      {
       "cell_index": 2
      }
     ]
    },
    "b85a22ae379b4e6d8e2d9713dd384d48": {
     "views": [
      {
       "cell_index": 2
      }
     ]
    },
    "ec462ca393824669a4b4b89a3a72bf8e": {
     "views": [
      {
       "cell_index": 2
      }
     ]
    }
   },
   "version": "1.2.0"
  }
 },
 "nbformat": 4,
 "nbformat_minor": 2
}
